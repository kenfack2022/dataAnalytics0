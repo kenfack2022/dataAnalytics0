{
  "metadata": {
    "kernelspec": {
      "name": "python",
      "display_name": "Python (Pyodide)",
      "language": "python"
    },
    "language_info": {
      "codemirror_mode": {
        "name": "python",
        "version": 3
      },
      "file_extension": ".py",
      "mimetype": "text/x-python",
      "name": "python",
      "nbconvert_exporter": "python",
      "pygments_lexer": "ipython3",
      "version": "3.8"
    },
    "prev_pub_hash": "fee3cd0da99af27f7f7a8d9c340e8e78f253ffc32a2251cadcb6968f21d952d5"
  },
  "nbformat_minor": 4,
  "nbformat": 4,
  "cells": [
    {
      "cell_type": "markdown",
      "source": "<p style=\"text-align:center\">\n    <a href=\"https://skills.network/?utm_medium=Exinfluencer&utm_source=Exinfluencer&utm_content=000026UJ&utm_term=10006555&utm_id=NA-SkillsNetwork-Channel-SkillsNetworkCoursesIBMDA0321ENSkillsNetwork928-2022-01-01\" target=\"_blank\">\n    <img src=\"https://cf-courses-data.s3.us.cloud-object-storage.appdomain.cloud/assets/logos/SN_web_lightmode.png\" width=\"400\" alt=\"Skills Network Logo\"  />\n    </a>\n</p>\n",
      "metadata": {}
    },
    {
      "cell_type": "markdown",
      "source": "# **Data Wrangling Lab**\n",
      "metadata": {}
    },
    {
      "cell_type": "markdown",
      "source": "Estimated time needed: **45 to 60** minutes\n",
      "metadata": {}
    },
    {
      "cell_type": "markdown",
      "source": "In this assignment you will be performing data wrangling.\n",
      "metadata": {}
    },
    {
      "cell_type": "markdown",
      "source": "## Objectives\n",
      "metadata": {}
    },
    {
      "cell_type": "markdown",
      "source": "In this lab you will perform the following:\n",
      "metadata": {}
    },
    {
      "cell_type": "markdown",
      "source": "-   Identify duplicate values in the dataset.\n\n-   Remove duplicate values from the dataset.\n\n-   Identify missing values in the dataset.\n\n-   Impute the missing values in the dataset.\n\n-   Normalize data in the dataset.\n",
      "metadata": {}
    },
    {
      "cell_type": "markdown",
      "source": "<hr>\n",
      "metadata": {}
    },
    {
      "cell_type": "markdown",
      "source": "## Hands on Lab\n",
      "metadata": {}
    },
    {
      "cell_type": "markdown",
      "source": "Import pandas module.\n",
      "metadata": {}
    },
    {
      "cell_type": "code",
      "source": "import pandas as pd",
      "metadata": {
        "trusted": true
      },
      "outputs": [],
      "execution_count": 35
    },
    {
      "cell_type": "markdown",
      "source": "Load the dataset into a dataframe.\n",
      "metadata": {}
    },
    {
      "cell_type": "markdown",
      "source": "<h2>Read Data</h2>\n<p>\nWe utilize the <code>pandas.read_csv()</code> function for reading CSV files. However, in this version of the lab, which operates on JupyterLite, the dataset needs to be downloaded to the interface using the provided code below.\n</p>\n",
      "metadata": {}
    },
    {
      "cell_type": "markdown",
      "source": "The functions below will download the dataset into your browser:\n",
      "metadata": {}
    },
    {
      "cell_type": "code",
      "source": "from pyodide.http import pyfetch\n\nasync def download(url, filename):\n    response = await pyfetch(url)\n    if response.status == 200:\n        with open(filename, \"wb\") as f:\n            f.write(await response.bytes())",
      "metadata": {
        "trusted": true
      },
      "outputs": [],
      "execution_count": 36
    },
    {
      "cell_type": "code",
      "source": "file_path = \"https://cf-courses-data.s3.us.cloud-object-storage.appdomain.cloud/IBM-DA0321EN-SkillsNetwork/LargeData/m1_survey_data.csv\"",
      "metadata": {
        "trusted": true
      },
      "outputs": [],
      "execution_count": 37
    },
    {
      "cell_type": "markdown",
      "source": "To obtain the dataset, utilize the download() function as defined above:  \n",
      "metadata": {}
    },
    {
      "cell_type": "code",
      "source": "await download(file_path, \"m1_survey_data.csv\")\nfile_name=\"m1_survey_data.csv\"",
      "metadata": {
        "trusted": true
      },
      "outputs": [],
      "execution_count": 38
    },
    {
      "cell_type": "markdown",
      "source": "Utilize the Pandas method read_csv() to load the data into a dataframe.\n",
      "metadata": {}
    },
    {
      "cell_type": "code",
      "source": "df = pd.read_csv(file_name)\n#df.head()",
      "metadata": {
        "trusted": true
      },
      "outputs": [],
      "execution_count": 40
    },
    {
      "cell_type": "markdown",
      "source": "> Note: This version of the lab is working on JupyterLite, which requires the dataset to be downloaded to the interface.While working on the downloaded version of this notebook on their local machines(Jupyter Anaconda), the learners can simply **skip the steps above,** and simply use the URL directly in the `pandas.read_csv()` function. You can uncomment and run the statements in the cell below.\n",
      "metadata": {}
    },
    {
      "cell_type": "code",
      "source": "#df = pd.read_csv(\"https://cf-courses-data.s3.us.cloud-object-storage.appdomain.cloud/IBM-DA0321EN-SkillsNetwork/LargeData/m1_survey_data.csv\")",
      "metadata": {
        "trusted": true
      },
      "outputs": [],
      "execution_count": 42
    },
    {
      "cell_type": "markdown",
      "source": "## Finding duplicates\n",
      "metadata": {}
    },
    {
      "cell_type": "markdown",
      "source": "In this section you will identify duplicate values in the dataset.\n",
      "metadata": {}
    },
    {
      "cell_type": "markdown",
      "source": " Find how many duplicate rows exist in the dataframe.\n",
      "metadata": {}
    },
    {
      "cell_type": "code",
      "source": "# your code goes here\n#df[df.duplicated()]\n#df[df.duplicated(keep=False)]\n#numberDuplicate = len(df[df.duplicated(keep=False)]) #247\nnumberDuplicate = len(df[df.duplicated()]) #154\nnumberDuplicate",
      "metadata": {
        "trusted": true
      },
      "outputs": [
        {
          "execution_count": 56,
          "output_type": "execute_result",
          "data": {
            "text/plain": "154"
          },
          "metadata": {}
        }
      ],
      "execution_count": 56
    },
    {
      "cell_type": "markdown",
      "source": "## Removing duplicates\n",
      "metadata": {}
    },
    {
      "cell_type": "markdown",
      "source": "Remove the duplicate rows from the dataframe.\n",
      "metadata": {}
    },
    {
      "cell_type": "code",
      "source": "# your code goes here\n#print(len(df)) #11552\ndf_no_duplicates = df.drop_duplicates() #11398\n#print(len(df_no_duplicates))",
      "metadata": {
        "trusted": true
      },
      "outputs": [],
      "execution_count": 85
    },
    {
      "cell_type": "markdown",
      "source": "Verify if duplicates were actually dropped.\n",
      "metadata": {}
    },
    {
      "cell_type": "code",
      "source": "# your code goes here\nlen(df_no_duplicates)\n# \n# One clearly sees that \n# numberDuplicates = len(df)-len(df_no_duplicates) = 11552 - 11398 = 154\n#",
      "metadata": {
        "trusted": true
      },
      "outputs": [
        {
          "execution_count": 86,
          "output_type": "execute_result",
          "data": {
            "text/plain": "11398"
          },
          "metadata": {}
        }
      ],
      "execution_count": 86
    },
    {
      "cell_type": "markdown",
      "source": "## Finding Missing values\n",
      "metadata": {}
    },
    {
      "cell_type": "markdown",
      "source": "Find the missing values for all columns.\n",
      "metadata": {}
    },
    {
      "cell_type": "code",
      "source": "# your code goes here\nmissing_values=df_no_duplicates.isnull().sum()\nmissing_values",
      "metadata": {
        "trusted": true
      },
      "outputs": [
        {
          "execution_count": 87,
          "output_type": "execute_result",
          "data": {
            "text/plain": "Respondent        0\nMainBranch        0\nHobbyist          0\nOpenSourcer       0\nOpenSource       81\n               ... \nSexuality       542\nEthnicity       675\nDependents      140\nSurveyLength     19\nSurveyEase       14\nLength: 85, dtype: int64"
          },
          "metadata": {}
        }
      ],
      "execution_count": 87
    },
    {
      "cell_type": "markdown",
      "source": "Find out how many rows are missing in the column 'WorkLoc'\n",
      "metadata": {}
    },
    {
      "cell_type": "code",
      "source": "# your code goes here\nmissing_values_WorkLoc=df_no_duplicates['WorkLoc'].isnull().sum()\nmissing_values_WorkLoc",
      "metadata": {
        "trusted": true
      },
      "outputs": [
        {
          "execution_count": 88,
          "output_type": "execute_result",
          "data": {
            "text/plain": "32"
          },
          "metadata": {}
        }
      ],
      "execution_count": 88
    },
    {
      "cell_type": "markdown",
      "source": "## Imputing missing values\n",
      "metadata": {}
    },
    {
      "cell_type": "markdown",
      "source": "Find the  value counts for the column WorkLoc.\n",
      "metadata": {}
    },
    {
      "cell_type": "code",
      "source": "# your code goes here\n#df_no_duplicates\n#df_no_duplicates['WorkLoc']\n#df_value_counts_WorklLoc_mfreq = df_no_duplicates['WorkLoc'].value_counts().idxmax()\n#df_value_counts_WorklLoc_mfreq\n\ndf_value_counts_WorklLoc = df_no_duplicates['WorkLoc'].value_counts()\ndf_value_counts_WorklLoc",
      "metadata": {
        "trusted": true
      },
      "outputs": [
        {
          "execution_count": 89,
          "output_type": "execute_result",
          "data": {
            "text/plain": "WorkLoc\nOffice                                            6806\nHome                                              3589\nOther place, such as a coworking space or cafe     971\nName: count, dtype: int64"
          },
          "metadata": {}
        }
      ],
      "execution_count": 89
    },
    {
      "cell_type": "markdown",
      "source": "Identify the value that is most frequent (majority) in the WorkLoc column.",
      "metadata": {}
    },
    {
      "cell_type": "code",
      "source": "#make a note of the majority value here, for future reference\n#\ndf_most_frequent_WorkLoc = df_no_duplicates['WorkLoc'].value_counts().idxmax()\ndf_most_frequent_WorkLoc",
      "metadata": {
        "trusted": true
      },
      "outputs": [
        {
          "execution_count": 90,
          "output_type": "execute_result",
          "data": {
            "text/plain": "'Office'"
          },
          "metadata": {}
        }
      ],
      "execution_count": 90
    },
    {
      "cell_type": "markdown",
      "source": "Impute (replace) all the empty rows in the column WorkLoc with the value that you have identified as majority.\n",
      "metadata": {}
    },
    {
      "cell_type": "code",
      "source": "# your code goes here\n#df_no_duplicates['WorkLoc'].isnull().sum()\n#df_no_duplicates['WorkLoc'].isnull()\n\ndf_no_duplicate_WorkLoc_NanRWithMostFrequent=df_no_duplicates['WorkLoc'].fillna(df_most_frequent_WorkLoc)\ndf_no_duplicate_WorkLoc_NanRWithMostFrequent\n#df_no_duplicates['WorkLoc']",
      "metadata": {
        "trusted": true
      },
      "outputs": [
        {
          "execution_count": 93,
          "output_type": "execute_result",
          "data": {
            "text/plain": "0                                                  Home\n1                                                Office\n2                                                  Home\n3                                                  Home\n4        Other place, such as a coworking space or cafe\n                              ...                      \n11547                                              Home\n11548                                              Home\n11549                                            Office\n11550                                              Home\n11551                                            Office\nName: WorkLoc, Length: 11398, dtype: object"
          },
          "metadata": {}
        }
      ],
      "execution_count": 93
    },
    {
      "cell_type": "markdown",
      "source": "After imputation there should ideally not be any empty rows in the WorkLoc column.\n",
      "metadata": {}
    },
    {
      "cell_type": "markdown",
      "source": "Verify if imputing was successful.\n",
      "metadata": {}
    },
    {
      "cell_type": "code",
      "source": "# your code goes here\ndf_no_duplicate_WorkLoc_NanRWithMostFrequent.isnull().sum() \n# perfect, the result of this test is zero; that is empty rows are replaced",
      "metadata": {
        "trusted": true
      },
      "outputs": [
        {
          "execution_count": 94,
          "output_type": "execute_result",
          "data": {
            "text/plain": "0"
          },
          "metadata": {}
        }
      ],
      "execution_count": 94
    },
    {
      "cell_type": "markdown",
      "source": "## Normalizing data\n",
      "metadata": {}
    },
    {
      "cell_type": "markdown",
      "source": "There are two columns in the dataset that talk about compensation.\n\nOne is \"CompFreq\". This column shows how often a developer is paid (Yearly, Monthly, Weekly).\n\nThe other is \"CompTotal\". This column talks about how much the developer is paid per Year, Month, or Week depending upon his/her \"CompFreq\". \n\nThis makes it difficult to compare the total compensation of the developers.\n\nIn this section you will create a new column called 'NormalizedAnnualCompensation' which contains the 'Annual Compensation' irrespective of the 'CompFreq'.\n\nOnce this column is ready, it makes comparison of salaries easy.\n",
      "metadata": {}
    },
    {
      "cell_type": "markdown",
      "source": "<hr>\n",
      "metadata": {}
    },
    {
      "cell_type": "markdown",
      "source": "List out the various categories in the column 'CompFreq'\n",
      "metadata": {}
    },
    {
      "cell_type": "code",
      "source": "# your code goes here\nVariousCategories_CompFreq=df_no_duplicates['CompFreq'].unique()\nVariousCategories_CompFreq",
      "metadata": {
        "trusted": true
      },
      "outputs": [
        {
          "execution_count": 98,
          "output_type": "execute_result",
          "data": {
            "text/plain": "array(['Yearly', 'Monthly', 'Weekly', nan], dtype=object)"
          },
          "metadata": {}
        }
      ],
      "execution_count": 98
    },
    {
      "cell_type": "markdown",
      "source": "Create a new column named 'NormalizedAnnualCompensation'. Use the hint given below if needed.\n",
      "metadata": {}
    },
    {
      "cell_type": "markdown",
      "source": "Double click to see the **Hint**.\n\n<!--\n\nUse the below logic to arrive at the values for the column NormalizedAnnualCompensation.\n\nIf the CompFreq is Yearly then use the exising value in CompTotal\nIf the CompFreq is Monthly then multiply the value in CompTotal with 12 (months in an year)\nIf the CompFreq is Weekly then multiply the value in CompTotal with 52 (weeks in an year)\n\n-->\n",
      "metadata": {}
    },
    {
      "cell_type": "code",
      "source": "# your code goes here\nimport numpy as np\nconditions=[(df_no_duplicates['CompFreq']=='Yearly'), (df_no_duplicates['CompFreq']=='Monthly'),(df_no_duplicates['CompFreq']=='Weekly')]\nchoices=[df_no_duplicates['CompTotal']*1, df_no_duplicates['CompTotal']*12, df_no_duplicates['CompTotal']*52]\ndf_no_duplicates['NormalizedAnnualCompensation']=np.select(conditions, choices, default='unknown')\n#df_no_duplicates['NormalizedAnnualCompensation']\ndf_no_duplicates[['EdLevel','Student','NormalizedAnnualCompensation']].head(60)\n#df_no_duplicates.head()",
      "metadata": {
        "trusted": true
      },
      "outputs": [
        {
          "execution_count": 119,
          "output_type": "execute_result",
          "data": {
            "text/plain": "                                              EdLevel         Student  \\\n0            Bachelor’s degree (BA, BS, B.Eng., etc.)              No   \n1   Some college/university study without earning ...              No   \n2         Master’s degree (MA, MS, M.Eng., MBA, etc.)              No   \n3         Master’s degree (MA, MS, M.Eng., MBA, etc.)              No   \n4            Bachelor’s degree (BA, BS, B.Eng., etc.)              No   \n5   Some college/university study without earning ...              No   \n6         Master’s degree (MA, MS, M.Eng., MBA, etc.)              No   \n7   Some college/university study without earning ...              No   \n8            Bachelor’s degree (BA, BS, B.Eng., etc.)              No   \n9                           Primary/elementary school              No   \n10                                   Associate degree              No   \n11  Some college/university study without earning ...              No   \n12           Bachelor’s degree (BA, BS, B.Eng., etc.)              No   \n13                                   Associate degree              No   \n14        Master’s degree (MA, MS, M.Eng., MBA, etc.)              No   \n15           Bachelor’s degree (BA, BS, B.Eng., etc.)              No   \n16           Bachelor’s degree (BA, BS, B.Eng., etc.)              No   \n17           Bachelor’s degree (BA, BS, B.Eng., etc.)              No   \n18  Some college/university study without earning ...  Yes, full-time   \n19           Bachelor’s degree (BA, BS, B.Eng., etc.)              No   \n20  Secondary school (e.g. American high school, G...  Yes, full-time   \n21                                                NaN              No   \n22           Bachelor’s degree (BA, BS, B.Eng., etc.)              No   \n23        Master’s degree (MA, MS, M.Eng., MBA, etc.)              No   \n24  Secondary school (e.g. American high school, G...              No   \n25  Some college/university study without earning ...              No   \n26                                   Associate degree  Yes, full-time   \n27           Bachelor’s degree (BA, BS, B.Eng., etc.)              No   \n28           Bachelor’s degree (BA, BS, B.Eng., etc.)              No   \n29        Master’s degree (MA, MS, M.Eng., MBA, etc.)              No   \n30           Bachelor’s degree (BA, BS, B.Eng., etc.)              No   \n31           Bachelor’s degree (BA, BS, B.Eng., etc.)              No   \n32           Bachelor’s degree (BA, BS, B.Eng., etc.)  Yes, full-time   \n33           Bachelor’s degree (BA, BS, B.Eng., etc.)              No   \n34           Bachelor’s degree (BA, BS, B.Eng., etc.)  Yes, full-time   \n35           Bachelor’s degree (BA, BS, B.Eng., etc.)              No   \n36           Bachelor’s degree (BA, BS, B.Eng., etc.)              No   \n37           Bachelor’s degree (BA, BS, B.Eng., etc.)  Yes, full-time   \n38  Some college/university study without earning ...              No   \n39           Bachelor’s degree (BA, BS, B.Eng., etc.)  Yes, part-time   \n40        Master’s degree (MA, MS, M.Eng., MBA, etc.)              No   \n41           Bachelor’s degree (BA, BS, B.Eng., etc.)              No   \n42  Some college/university study without earning ...              No   \n43           Bachelor’s degree (BA, BS, B.Eng., etc.)              No   \n44           Bachelor’s degree (BA, BS, B.Eng., etc.)              No   \n45  Some college/university study without earning ...              No   \n46           Bachelor’s degree (BA, BS, B.Eng., etc.)              No   \n47           Bachelor’s degree (BA, BS, B.Eng., etc.)  Yes, full-time   \n48        Master’s degree (MA, MS, M.Eng., MBA, etc.)              No   \n49        Master’s degree (MA, MS, M.Eng., MBA, etc.)              No   \n50           Bachelor’s degree (BA, BS, B.Eng., etc.)              No   \n51           Bachelor’s degree (BA, BS, B.Eng., etc.)              No   \n52                                   Associate degree  Yes, part-time   \n53        Master’s degree (MA, MS, M.Eng., MBA, etc.)              No   \n54           Bachelor’s degree (BA, BS, B.Eng., etc.)              No   \n55           Bachelor’s degree (BA, BS, B.Eng., etc.)              No   \n56           Bachelor’s degree (BA, BS, B.Eng., etc.)              No   \n57           Bachelor’s degree (BA, BS, B.Eng., etc.)              No   \n58           Bachelor’s degree (BA, BS, B.Eng., etc.)              No   \n59           Bachelor’s degree (BA, BS, B.Eng., etc.)              No   \n\n   NormalizedAnnualCompensation  \n0                       61000.0  \n1                      138000.0  \n2                       90000.0  \n3                      348000.0  \n4                       90000.0  \n5                      114000.0  \n6                       36000.0  \n7                      103000.0  \n8                       69000.0  \n9                       96000.0  \n10                      84000.0  \n11                     114000.0  \n12                     104000.0  \n13                    1144000.0  \n14                    1152000.0  \n15                     156000.0  \n16                      18000.0  \n17                      76800.0  \n18                      60000.0  \n19                     400000.0  \n20                      47300.0  \n21                     618000.0  \n22                     345000.0  \n23                      85000.0  \n24                     107000.0  \n25                      66000.0  \n26                      76800.0  \n27                      50000.0  \n28                     800000.0  \n29                      75000.0  \n30                     216000.0  \n31                     100000.0  \n32                    1250000.0  \n33                      30000.0  \n34                     550000.0  \n35                          nan  \n36                    8400000.0  \n37                     480000.0  \n38                     108000.0  \n39                     132000.0  \n40                    1200000.0  \n41                      50000.0  \n42                      33000.0  \n43                     110000.0  \n44                      66750.0  \n45                     300000.0  \n46                    3525600.0  \n47                     155000.0  \n48                     300000.0  \n49                     100000.0  \n50                      unknown  \n51                      70000.0  \n52                     360000.0  \n53                      90000.0  \n54                      26000.0  \n55                      31000.0  \n56                          nan  \n57                     288000.0  \n58                     650000.0  \n59                      60000.0  ",
            "text/html": "<div>\n<style scoped>\n    .dataframe tbody tr th:only-of-type {\n        vertical-align: middle;\n    }\n\n    .dataframe tbody tr th {\n        vertical-align: top;\n    }\n\n    .dataframe thead th {\n        text-align: right;\n    }\n</style>\n<table border=\"1\" class=\"dataframe\">\n  <thead>\n    <tr style=\"text-align: right;\">\n      <th></th>\n      <th>EdLevel</th>\n      <th>Student</th>\n      <th>NormalizedAnnualCompensation</th>\n    </tr>\n  </thead>\n  <tbody>\n    <tr>\n      <th>0</th>\n      <td>Bachelor’s degree (BA, BS, B.Eng., etc.)</td>\n      <td>No</td>\n      <td>61000.0</td>\n    </tr>\n    <tr>\n      <th>1</th>\n      <td>Some college/university study without earning ...</td>\n      <td>No</td>\n      <td>138000.0</td>\n    </tr>\n    <tr>\n      <th>2</th>\n      <td>Master’s degree (MA, MS, M.Eng., MBA, etc.)</td>\n      <td>No</td>\n      <td>90000.0</td>\n    </tr>\n    <tr>\n      <th>3</th>\n      <td>Master’s degree (MA, MS, M.Eng., MBA, etc.)</td>\n      <td>No</td>\n      <td>348000.0</td>\n    </tr>\n    <tr>\n      <th>4</th>\n      <td>Bachelor’s degree (BA, BS, B.Eng., etc.)</td>\n      <td>No</td>\n      <td>90000.0</td>\n    </tr>\n    <tr>\n      <th>5</th>\n      <td>Some college/university study without earning ...</td>\n      <td>No</td>\n      <td>114000.0</td>\n    </tr>\n    <tr>\n      <th>6</th>\n      <td>Master’s degree (MA, MS, M.Eng., MBA, etc.)</td>\n      <td>No</td>\n      <td>36000.0</td>\n    </tr>\n    <tr>\n      <th>7</th>\n      <td>Some college/university study without earning ...</td>\n      <td>No</td>\n      <td>103000.0</td>\n    </tr>\n    <tr>\n      <th>8</th>\n      <td>Bachelor’s degree (BA, BS, B.Eng., etc.)</td>\n      <td>No</td>\n      <td>69000.0</td>\n    </tr>\n    <tr>\n      <th>9</th>\n      <td>Primary/elementary school</td>\n      <td>No</td>\n      <td>96000.0</td>\n    </tr>\n    <tr>\n      <th>10</th>\n      <td>Associate degree</td>\n      <td>No</td>\n      <td>84000.0</td>\n    </tr>\n    <tr>\n      <th>11</th>\n      <td>Some college/university study without earning ...</td>\n      <td>No</td>\n      <td>114000.0</td>\n    </tr>\n    <tr>\n      <th>12</th>\n      <td>Bachelor’s degree (BA, BS, B.Eng., etc.)</td>\n      <td>No</td>\n      <td>104000.0</td>\n    </tr>\n    <tr>\n      <th>13</th>\n      <td>Associate degree</td>\n      <td>No</td>\n      <td>1144000.0</td>\n    </tr>\n    <tr>\n      <th>14</th>\n      <td>Master’s degree (MA, MS, M.Eng., MBA, etc.)</td>\n      <td>No</td>\n      <td>1152000.0</td>\n    </tr>\n    <tr>\n      <th>15</th>\n      <td>Bachelor’s degree (BA, BS, B.Eng., etc.)</td>\n      <td>No</td>\n      <td>156000.0</td>\n    </tr>\n    <tr>\n      <th>16</th>\n      <td>Bachelor’s degree (BA, BS, B.Eng., etc.)</td>\n      <td>No</td>\n      <td>18000.0</td>\n    </tr>\n    <tr>\n      <th>17</th>\n      <td>Bachelor’s degree (BA, BS, B.Eng., etc.)</td>\n      <td>No</td>\n      <td>76800.0</td>\n    </tr>\n    <tr>\n      <th>18</th>\n      <td>Some college/university study without earning ...</td>\n      <td>Yes, full-time</td>\n      <td>60000.0</td>\n    </tr>\n    <tr>\n      <th>19</th>\n      <td>Bachelor’s degree (BA, BS, B.Eng., etc.)</td>\n      <td>No</td>\n      <td>400000.0</td>\n    </tr>\n    <tr>\n      <th>20</th>\n      <td>Secondary school (e.g. American high school, G...</td>\n      <td>Yes, full-time</td>\n      <td>47300.0</td>\n    </tr>\n    <tr>\n      <th>21</th>\n      <td>NaN</td>\n      <td>No</td>\n      <td>618000.0</td>\n    </tr>\n    <tr>\n      <th>22</th>\n      <td>Bachelor’s degree (BA, BS, B.Eng., etc.)</td>\n      <td>No</td>\n      <td>345000.0</td>\n    </tr>\n    <tr>\n      <th>23</th>\n      <td>Master’s degree (MA, MS, M.Eng., MBA, etc.)</td>\n      <td>No</td>\n      <td>85000.0</td>\n    </tr>\n    <tr>\n      <th>24</th>\n      <td>Secondary school (e.g. American high school, G...</td>\n      <td>No</td>\n      <td>107000.0</td>\n    </tr>\n    <tr>\n      <th>25</th>\n      <td>Some college/university study without earning ...</td>\n      <td>No</td>\n      <td>66000.0</td>\n    </tr>\n    <tr>\n      <th>26</th>\n      <td>Associate degree</td>\n      <td>Yes, full-time</td>\n      <td>76800.0</td>\n    </tr>\n    <tr>\n      <th>27</th>\n      <td>Bachelor’s degree (BA, BS, B.Eng., etc.)</td>\n      <td>No</td>\n      <td>50000.0</td>\n    </tr>\n    <tr>\n      <th>28</th>\n      <td>Bachelor’s degree (BA, BS, B.Eng., etc.)</td>\n      <td>No</td>\n      <td>800000.0</td>\n    </tr>\n    <tr>\n      <th>29</th>\n      <td>Master’s degree (MA, MS, M.Eng., MBA, etc.)</td>\n      <td>No</td>\n      <td>75000.0</td>\n    </tr>\n    <tr>\n      <th>30</th>\n      <td>Bachelor’s degree (BA, BS, B.Eng., etc.)</td>\n      <td>No</td>\n      <td>216000.0</td>\n    </tr>\n    <tr>\n      <th>31</th>\n      <td>Bachelor’s degree (BA, BS, B.Eng., etc.)</td>\n      <td>No</td>\n      <td>100000.0</td>\n    </tr>\n    <tr>\n      <th>32</th>\n      <td>Bachelor’s degree (BA, BS, B.Eng., etc.)</td>\n      <td>Yes, full-time</td>\n      <td>1250000.0</td>\n    </tr>\n    <tr>\n      <th>33</th>\n      <td>Bachelor’s degree (BA, BS, B.Eng., etc.)</td>\n      <td>No</td>\n      <td>30000.0</td>\n    </tr>\n    <tr>\n      <th>34</th>\n      <td>Bachelor’s degree (BA, BS, B.Eng., etc.)</td>\n      <td>Yes, full-time</td>\n      <td>550000.0</td>\n    </tr>\n    <tr>\n      <th>35</th>\n      <td>Bachelor’s degree (BA, BS, B.Eng., etc.)</td>\n      <td>No</td>\n      <td>nan</td>\n    </tr>\n    <tr>\n      <th>36</th>\n      <td>Bachelor’s degree (BA, BS, B.Eng., etc.)</td>\n      <td>No</td>\n      <td>8400000.0</td>\n    </tr>\n    <tr>\n      <th>37</th>\n      <td>Bachelor’s degree (BA, BS, B.Eng., etc.)</td>\n      <td>Yes, full-time</td>\n      <td>480000.0</td>\n    </tr>\n    <tr>\n      <th>38</th>\n      <td>Some college/university study without earning ...</td>\n      <td>No</td>\n      <td>108000.0</td>\n    </tr>\n    <tr>\n      <th>39</th>\n      <td>Bachelor’s degree (BA, BS, B.Eng., etc.)</td>\n      <td>Yes, part-time</td>\n      <td>132000.0</td>\n    </tr>\n    <tr>\n      <th>40</th>\n      <td>Master’s degree (MA, MS, M.Eng., MBA, etc.)</td>\n      <td>No</td>\n      <td>1200000.0</td>\n    </tr>\n    <tr>\n      <th>41</th>\n      <td>Bachelor’s degree (BA, BS, B.Eng., etc.)</td>\n      <td>No</td>\n      <td>50000.0</td>\n    </tr>\n    <tr>\n      <th>42</th>\n      <td>Some college/university study without earning ...</td>\n      <td>No</td>\n      <td>33000.0</td>\n    </tr>\n    <tr>\n      <th>43</th>\n      <td>Bachelor’s degree (BA, BS, B.Eng., etc.)</td>\n      <td>No</td>\n      <td>110000.0</td>\n    </tr>\n    <tr>\n      <th>44</th>\n      <td>Bachelor’s degree (BA, BS, B.Eng., etc.)</td>\n      <td>No</td>\n      <td>66750.0</td>\n    </tr>\n    <tr>\n      <th>45</th>\n      <td>Some college/university study without earning ...</td>\n      <td>No</td>\n      <td>300000.0</td>\n    </tr>\n    <tr>\n      <th>46</th>\n      <td>Bachelor’s degree (BA, BS, B.Eng., etc.)</td>\n      <td>No</td>\n      <td>3525600.0</td>\n    </tr>\n    <tr>\n      <th>47</th>\n      <td>Bachelor’s degree (BA, BS, B.Eng., etc.)</td>\n      <td>Yes, full-time</td>\n      <td>155000.0</td>\n    </tr>\n    <tr>\n      <th>48</th>\n      <td>Master’s degree (MA, MS, M.Eng., MBA, etc.)</td>\n      <td>No</td>\n      <td>300000.0</td>\n    </tr>\n    <tr>\n      <th>49</th>\n      <td>Master’s degree (MA, MS, M.Eng., MBA, etc.)</td>\n      <td>No</td>\n      <td>100000.0</td>\n    </tr>\n    <tr>\n      <th>50</th>\n      <td>Bachelor’s degree (BA, BS, B.Eng., etc.)</td>\n      <td>No</td>\n      <td>unknown</td>\n    </tr>\n    <tr>\n      <th>51</th>\n      <td>Bachelor’s degree (BA, BS, B.Eng., etc.)</td>\n      <td>No</td>\n      <td>70000.0</td>\n    </tr>\n    <tr>\n      <th>52</th>\n      <td>Associate degree</td>\n      <td>Yes, part-time</td>\n      <td>360000.0</td>\n    </tr>\n    <tr>\n      <th>53</th>\n      <td>Master’s degree (MA, MS, M.Eng., MBA, etc.)</td>\n      <td>No</td>\n      <td>90000.0</td>\n    </tr>\n    <tr>\n      <th>54</th>\n      <td>Bachelor’s degree (BA, BS, B.Eng., etc.)</td>\n      <td>No</td>\n      <td>26000.0</td>\n    </tr>\n    <tr>\n      <th>55</th>\n      <td>Bachelor’s degree (BA, BS, B.Eng., etc.)</td>\n      <td>No</td>\n      <td>31000.0</td>\n    </tr>\n    <tr>\n      <th>56</th>\n      <td>Bachelor’s degree (BA, BS, B.Eng., etc.)</td>\n      <td>No</td>\n      <td>nan</td>\n    </tr>\n    <tr>\n      <th>57</th>\n      <td>Bachelor’s degree (BA, BS, B.Eng., etc.)</td>\n      <td>No</td>\n      <td>288000.0</td>\n    </tr>\n    <tr>\n      <th>58</th>\n      <td>Bachelor’s degree (BA, BS, B.Eng., etc.)</td>\n      <td>No</td>\n      <td>650000.0</td>\n    </tr>\n    <tr>\n      <th>59</th>\n      <td>Bachelor’s degree (BA, BS, B.Eng., etc.)</td>\n      <td>No</td>\n      <td>60000.0</td>\n    </tr>\n  </tbody>\n</table>\n</div>"
          },
          "metadata": {}
        }
      ],
      "execution_count": 119
    },
    {
      "cell_type": "markdown",
      "source": "## Authors\n",
      "metadata": {}
    },
    {
      "cell_type": "markdown",
      "source": "Ramesh Sannareddy\n",
      "metadata": {}
    },
    {
      "cell_type": "markdown",
      "source": "### Other Contributors\n",
      "metadata": {}
    },
    {
      "cell_type": "markdown",
      "source": "Rav Ahuja\n",
      "metadata": {}
    },
    {
      "cell_type": "markdown",
      "source": " ## Change Log\n",
      "metadata": {}
    },
    {
      "cell_type": "markdown",
      "source": "|Date (YYYY-MM-DD)|Version|Changed By|Change Description|\n|-|-|-|-|\n|2024-09-24|1.1|Madhusudhan Moole|Updated lab|\n|2024-09-23|1.0|Raghul Ramesh|Created lab|\n",
      "metadata": {}
    },
    {
      "cell_type": "markdown",
      "source": "<!--| Date (YYYY-MM-DD) | Version | Changed By        | Change Description                 |\n| ----------------- | ------- | ----------------- | ---------------------------------- |\n| 2020-10-17        | 0.1     | Ramesh Sannareddy | Created initial version of the lab |--!>\n",
      "metadata": {}
    },
    {
      "cell_type": "markdown",
      "source": "## <h3 align=\"center\"> © IBM Corporation. All rights reserved. <h3/>\n",
      "metadata": {}
    },
    {
      "cell_type": "code",
      "source": "",
      "metadata": {},
      "outputs": [],
      "execution_count": null
    }
  ]
}